{
 "cells": [
  {
   "cell_type": "code",
   "execution_count": 1,
   "id": "77a8a619-a7bb-4b25-a318-45d784b3c72b",
   "metadata": {},
   "outputs": [
    {
     "data": {
      "text/html": [
       "<div>\n",
       "<style scoped>\n",
       "    .dataframe tbody tr th:only-of-type {\n",
       "        vertical-align: middle;\n",
       "    }\n",
       "\n",
       "    .dataframe tbody tr th {\n",
       "        vertical-align: top;\n",
       "    }\n",
       "\n",
       "    .dataframe thead th {\n",
       "        text-align: right;\n",
       "    }\n",
       "</style>\n",
       "<table border=\"1\" class=\"dataframe\">\n",
       "  <thead>\n",
       "    <tr style=\"text-align: right;\">\n",
       "      <th></th>\n",
       "      <th>trade_id</th>\n",
       "      <th>side</th>\n",
       "      <th>size</th>\n",
       "      <th>price</th>\n",
       "      <th>time</th>\n",
       "      <th>fetched_at</th>\n",
       "      <th>symbol</th>\n",
       "    </tr>\n",
       "  </thead>\n",
       "  <tbody>\n",
       "    <tr>\n",
       "      <th>0</th>\n",
       "      <td>849568043</td>\n",
       "      <td>sell</td>\n",
       "      <td>0.003514</td>\n",
       "      <td>117672.27</td>\n",
       "      <td>2025-07-15 13:29:36.383307+00:00</td>\n",
       "      <td>2025-07-15 13:30:09.055393+00:00</td>\n",
       "      <td>BTC-USD</td>\n",
       "    </tr>\n",
       "    <tr>\n",
       "      <th>1</th>\n",
       "      <td>849568044</td>\n",
       "      <td>sell</td>\n",
       "      <td>0.003201</td>\n",
       "      <td>117672.27</td>\n",
       "      <td>2025-07-15 13:29:36.386970+00:00</td>\n",
       "      <td>2025-07-15 13:30:09.055393+00:00</td>\n",
       "      <td>BTC-USD</td>\n",
       "    </tr>\n",
       "    <tr>\n",
       "      <th>2</th>\n",
       "      <td>849568046</td>\n",
       "      <td>sell</td>\n",
       "      <td>0.005918</td>\n",
       "      <td>117671.28</td>\n",
       "      <td>2025-07-15 13:29:36.826134+00:00</td>\n",
       "      <td>2025-07-15 13:30:09.055393+00:00</td>\n",
       "      <td>BTC-USD</td>\n",
       "    </tr>\n",
       "    <tr>\n",
       "      <th>3</th>\n",
       "      <td>849568051</td>\n",
       "      <td>sell</td>\n",
       "      <td>0.023454</td>\n",
       "      <td>117671.60</td>\n",
       "      <td>2025-07-15 13:29:36.826134+00:00</td>\n",
       "      <td>2025-07-15 13:30:09.055393+00:00</td>\n",
       "      <td>BTC-USD</td>\n",
       "    </tr>\n",
       "    <tr>\n",
       "      <th>4</th>\n",
       "      <td>849568050</td>\n",
       "      <td>sell</td>\n",
       "      <td>0.001515</td>\n",
       "      <td>117671.57</td>\n",
       "      <td>2025-07-15 13:29:36.826134+00:00</td>\n",
       "      <td>2025-07-15 13:30:09.055393+00:00</td>\n",
       "      <td>BTC-USD</td>\n",
       "    </tr>\n",
       "  </tbody>\n",
       "</table>\n",
       "</div>"
      ],
      "text/plain": [
       "    trade_id  side      size      price                             time  \\\n",
       "0  849568043  sell  0.003514  117672.27 2025-07-15 13:29:36.383307+00:00   \n",
       "1  849568044  sell  0.003201  117672.27 2025-07-15 13:29:36.386970+00:00   \n",
       "2  849568046  sell  0.005918  117671.28 2025-07-15 13:29:36.826134+00:00   \n",
       "3  849568051  sell  0.023454  117671.60 2025-07-15 13:29:36.826134+00:00   \n",
       "4  849568050  sell  0.001515  117671.57 2025-07-15 13:29:36.826134+00:00   \n",
       "\n",
       "                        fetched_at   symbol  \n",
       "0 2025-07-15 13:30:09.055393+00:00  BTC-USD  \n",
       "1 2025-07-15 13:30:09.055393+00:00  BTC-USD  \n",
       "2 2025-07-15 13:30:09.055393+00:00  BTC-USD  \n",
       "3 2025-07-15 13:30:09.055393+00:00  BTC-USD  \n",
       "4 2025-07-15 13:30:09.055393+00:00  BTC-USD  "
      ]
     },
     "execution_count": 1,
     "metadata": {},
     "output_type": "execute_result"
    }
   ],
   "source": [
    "import pyarrow.parquet as pq\n",
    "\n",
    "# Read the parquet file\n",
    "table = pq.read_table('trades_hour_13.parquet')\n",
    "\n",
    "# Convert to pandas DataFrame if needed\n",
    "df = table.to_pandas()\n",
    "\n",
    "# Display the first few rows\n",
    "df.head()"
   ]
  },
  {
   "cell_type": "code",
   "execution_count": 2,
   "id": "02df8e40-e373-40b9-866f-d19c28181da0",
   "metadata": {
    "scrolled": true
   },
   "outputs": [
    {
     "name": "stdout",
     "output_type": "stream",
     "text": [
      "<class 'pandas.core.frame.DataFrame'>\n",
      "RangeIndex: 1000 entries, 0 to 999\n",
      "Data columns (total 7 columns):\n",
      " #   Column      Non-Null Count  Dtype              \n",
      "---  ------      --------------  -----              \n",
      " 0   trade_id    1000 non-null   int64              \n",
      " 1   side        1000 non-null   object             \n",
      " 2   size        1000 non-null   float64            \n",
      " 3   price       1000 non-null   float64            \n",
      " 4   time        1000 non-null   datetime64[ns, UTC]\n",
      " 5   fetched_at  1000 non-null   datetime64[ns, UTC]\n",
      " 6   symbol      1000 non-null   object             \n",
      "dtypes: datetime64[ns, UTC](2), float64(2), int64(1), object(2)\n",
      "memory usage: 54.8+ KB\n"
     ]
    }
   ],
   "source": [
    "df.info()"
   ]
  },
  {
   "cell_type": "code",
   "execution_count": null,
   "id": "57ef7373-fb66-4923-b558-2ed9156b572e",
   "metadata": {},
   "outputs": [],
   "source": []
  }
 ],
 "metadata": {
  "kernelspec": {
   "display_name": "Python 3 (ipykernel)",
   "language": "python",
   "name": "python3"
  },
  "language_info": {
   "codemirror_mode": {
    "name": "ipython",
    "version": 3
   },
   "file_extension": ".py",
   "mimetype": "text/x-python",
   "name": "python",
   "nbconvert_exporter": "python",
   "pygments_lexer": "ipython3",
   "version": "3.12.3"
  }
 },
 "nbformat": 4,
 "nbformat_minor": 5
}
